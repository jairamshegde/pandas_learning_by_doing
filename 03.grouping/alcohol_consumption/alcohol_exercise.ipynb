{
 "cells": [
  {
   "cell_type": "markdown",
   "metadata": {},
   "source": [
    "# Ex - GroupBy"
   ]
  },
  {
   "cell_type": "markdown",
   "metadata": {},
   "source": [
    "### Introduction:\n",
    "\n",
    "GroupBy can be summarized as Split-Apply-Combine.\n",
    "\n",
    "Special thanks to: https://github.com/justmarkham for sharing the dataset and materials.\n",
    "\n",
    "Check out this [Diagram](http://i.imgur.com/yjNkiwL.png)  \n",
    "### Step 1. Import the necessary libraries"
   ]
  },
  {
   "cell_type": "code",
   "execution_count": 1,
   "metadata": {},
   "outputs": [],
   "source": [
    "import pandas as pd "
   ]
  },
  {
   "cell_type": "code",
   "execution_count": 2,
   "metadata": {},
   "outputs": [],
   "source": [
    "import numpy as np"
   ]
  },
  {
   "cell_type": "markdown",
   "metadata": {},
   "source": [
    "### Step 2. Import the dataset from this [address](https://raw.githubusercontent.com/justmarkham/DAT8/master/data/drinks.csv). "
   ]
  },
  {
   "cell_type": "code",
   "execution_count": 3,
   "metadata": {},
   "outputs": [],
   "source": [
    "url = 'https://raw.githubusercontent.com/justmarkham/DAT8/master/data/drinks.csv'\n"
   ]
  },
  {
   "cell_type": "markdown",
   "metadata": {},
   "source": [
    "### Step 3. Assign it to a variable called drinks."
   ]
  },
  {
   "cell_type": "code",
   "execution_count": 4,
   "metadata": {},
   "outputs": [
    {
     "output_type": "execute_result",
     "data": {
      "text/plain": [
       "       country  beer_servings  spirit_servings  wine_servings  \\\n",
       "0  Afghanistan              0                0              0   \n",
       "1      Albania             89              132             54   \n",
       "2      Algeria             25                0             14   \n",
       "3      Andorra            245              138            312   \n",
       "4       Angola            217               57             45   \n",
       "\n",
       "   total_litres_of_pure_alcohol continent  \n",
       "0                           0.0        AS  \n",
       "1                           4.9        EU  \n",
       "2                           0.7        AF  \n",
       "3                          12.4        EU  \n",
       "4                           5.9        AF  "
      ],
      "text/html": "<div>\n<style scoped>\n    .dataframe tbody tr th:only-of-type {\n        vertical-align: middle;\n    }\n\n    .dataframe tbody tr th {\n        vertical-align: top;\n    }\n\n    .dataframe thead th {\n        text-align: right;\n    }\n</style>\n<table border=\"1\" class=\"dataframe\">\n  <thead>\n    <tr style=\"text-align: right;\">\n      <th></th>\n      <th>country</th>\n      <th>beer_servings</th>\n      <th>spirit_servings</th>\n      <th>wine_servings</th>\n      <th>total_litres_of_pure_alcohol</th>\n      <th>continent</th>\n    </tr>\n  </thead>\n  <tbody>\n    <tr>\n      <th>0</th>\n      <td>Afghanistan</td>\n      <td>0</td>\n      <td>0</td>\n      <td>0</td>\n      <td>0.0</td>\n      <td>AS</td>\n    </tr>\n    <tr>\n      <th>1</th>\n      <td>Albania</td>\n      <td>89</td>\n      <td>132</td>\n      <td>54</td>\n      <td>4.9</td>\n      <td>EU</td>\n    </tr>\n    <tr>\n      <th>2</th>\n      <td>Algeria</td>\n      <td>25</td>\n      <td>0</td>\n      <td>14</td>\n      <td>0.7</td>\n      <td>AF</td>\n    </tr>\n    <tr>\n      <th>3</th>\n      <td>Andorra</td>\n      <td>245</td>\n      <td>138</td>\n      <td>312</td>\n      <td>12.4</td>\n      <td>EU</td>\n    </tr>\n    <tr>\n      <th>4</th>\n      <td>Angola</td>\n      <td>217</td>\n      <td>57</td>\n      <td>45</td>\n      <td>5.9</td>\n      <td>AF</td>\n    </tr>\n  </tbody>\n</table>\n</div>"
     },
     "metadata": {},
     "execution_count": 4
    }
   ],
   "source": [
    "drinks = pd.read_csv(url)\n",
    "drinks.head()"
   ]
  },
  {
   "cell_type": "markdown",
   "metadata": {},
   "source": [
    "### Step 4. Which continent drinks more beer on average?"
   ]
  },
  {
   "cell_type": "code",
   "execution_count": 5,
   "metadata": {},
   "outputs": [
    {
     "output_type": "execute_result",
     "data": {
      "text/plain": [
       "continent\n",
       "AF     61.471698\n",
       "AS     37.045455\n",
       "EU    193.777778\n",
       "OC     89.687500\n",
       "SA    175.083333\n",
       "Name: beer_servings, dtype: float64"
      ]
     },
     "metadata": {},
     "execution_count": 5
    }
   ],
   "source": [
    "#old way of doing that \n",
    "# where we took avg based on the country\n",
    "continent_grouping = drinks.groupby('continent')\n",
    "continent_grouping['beer_servings'].mean()"
   ]
  },
  {
   "cell_type": "code",
   "execution_count": 10,
   "metadata": {},
   "outputs": [
    {
     "output_type": "execute_result",
     "data": {
      "text/plain": [
       "           beer_servings\n",
       "continent               \n",
       "EU            193.777778\n",
       "SA            175.083333\n",
       "OC             89.687500\n",
       "AF             61.471698\n",
       "AS             37.045455"
      ],
      "text/html": "<div>\n<style scoped>\n    .dataframe tbody tr th:only-of-type {\n        vertical-align: middle;\n    }\n\n    .dataframe tbody tr th {\n        vertical-align: top;\n    }\n\n    .dataframe thead th {\n        text-align: right;\n    }\n</style>\n<table border=\"1\" class=\"dataframe\">\n  <thead>\n    <tr style=\"text-align: right;\">\n      <th></th>\n      <th>beer_servings</th>\n    </tr>\n    <tr>\n      <th>continent</th>\n      <th></th>\n    </tr>\n  </thead>\n  <tbody>\n    <tr>\n      <th>EU</th>\n      <td>193.777778</td>\n    </tr>\n    <tr>\n      <th>SA</th>\n      <td>175.083333</td>\n    </tr>\n    <tr>\n      <th>OC</th>\n      <td>89.687500</td>\n    </tr>\n    <tr>\n      <th>AF</th>\n      <td>61.471698</td>\n    </tr>\n    <tr>\n      <th>AS</th>\n      <td>37.045455</td>\n    </tr>\n  </tbody>\n</table>\n</div>"
     },
     "metadata": {},
     "execution_count": 10
    }
   ],
   "source": [
    "# modern way of doing this is\n",
    "modern_continent_grouping = drinks.groupby('continent').agg({'beer_servings':'mean'})\n",
    "modern_continent_grouping.sort_values('beer_servings',ascending = False)"
   ]
  },
  {
   "cell_type": "markdown",
   "metadata": {},
   "source": [
    "### Step 5. For each continent print the statistics for wine consumption."
   ]
  },
  {
   "cell_type": "code",
   "execution_count": 12,
   "metadata": {},
   "outputs": [
    {
     "output_type": "execute_result",
     "data": {
      "text/plain": [
       "          wine_servings                                                   \\\n",
       "                  count        mean        std  min   25%    50%     75%   \n",
       "continent                                                                  \n",
       "AF                 53.0   16.264151  38.846419  0.0   1.0    2.0   13.00   \n",
       "AS                 44.0    9.068182  21.667034  0.0   0.0    1.0    8.00   \n",
       "EU                 45.0  142.222222  97.421738  0.0  59.0  128.0  195.00   \n",
       "OC                 16.0   35.625000  64.555790  0.0   1.0    8.5   23.25   \n",
       "SA                 12.0   62.416667  88.620189  1.0   3.0   12.0   98.50   \n",
       "\n",
       "                  \n",
       "             max  \n",
       "continent         \n",
       "AF         233.0  \n",
       "AS         123.0  \n",
       "EU         370.0  \n",
       "OC         212.0  \n",
       "SA         221.0  "
      ],
      "text/html": "<div>\n<style scoped>\n    .dataframe tbody tr th:only-of-type {\n        vertical-align: middle;\n    }\n\n    .dataframe tbody tr th {\n        vertical-align: top;\n    }\n\n    .dataframe thead tr th {\n        text-align: left;\n    }\n\n    .dataframe thead tr:last-of-type th {\n        text-align: right;\n    }\n</style>\n<table border=\"1\" class=\"dataframe\">\n  <thead>\n    <tr>\n      <th></th>\n      <th colspan=\"8\" halign=\"left\">wine_servings</th>\n    </tr>\n    <tr>\n      <th></th>\n      <th>count</th>\n      <th>mean</th>\n      <th>std</th>\n      <th>min</th>\n      <th>25%</th>\n      <th>50%</th>\n      <th>75%</th>\n      <th>max</th>\n    </tr>\n    <tr>\n      <th>continent</th>\n      <th></th>\n      <th></th>\n      <th></th>\n      <th></th>\n      <th></th>\n      <th></th>\n      <th></th>\n      <th></th>\n    </tr>\n  </thead>\n  <tbody>\n    <tr>\n      <th>AF</th>\n      <td>53.0</td>\n      <td>16.264151</td>\n      <td>38.846419</td>\n      <td>0.0</td>\n      <td>1.0</td>\n      <td>2.0</td>\n      <td>13.00</td>\n      <td>233.0</td>\n    </tr>\n    <tr>\n      <th>AS</th>\n      <td>44.0</td>\n      <td>9.068182</td>\n      <td>21.667034</td>\n      <td>0.0</td>\n      <td>0.0</td>\n      <td>1.0</td>\n      <td>8.00</td>\n      <td>123.0</td>\n    </tr>\n    <tr>\n      <th>EU</th>\n      <td>45.0</td>\n      <td>142.222222</td>\n      <td>97.421738</td>\n      <td>0.0</td>\n      <td>59.0</td>\n      <td>128.0</td>\n      <td>195.00</td>\n      <td>370.0</td>\n    </tr>\n    <tr>\n      <th>OC</th>\n      <td>16.0</td>\n      <td>35.625000</td>\n      <td>64.555790</td>\n      <td>0.0</td>\n      <td>1.0</td>\n      <td>8.5</td>\n      <td>23.25</td>\n      <td>212.0</td>\n    </tr>\n    <tr>\n      <th>SA</th>\n      <td>12.0</td>\n      <td>62.416667</td>\n      <td>88.620189</td>\n      <td>1.0</td>\n      <td>3.0</td>\n      <td>12.0</td>\n      <td>98.50</td>\n      <td>221.0</td>\n    </tr>\n  </tbody>\n</table>\n</div>"
     },
     "metadata": {},
     "execution_count": 12
    }
   ],
   "source": [
    "# this is new for me \n",
    "wine_stat = drinks.groupby('continent').agg({'wine_servings':'describe'})\n",
    "wine_stat"
   ]
  },
  {
   "cell_type": "markdown",
   "metadata": {},
   "source": [
    "### Step 6. Print the mean alcohol consumption per continent for every column"
   ]
  },
  {
   "cell_type": "code",
   "execution_count": 16,
   "metadata": {},
   "outputs": [
    {
     "output_type": "execute_result",
     "data": {
      "text/plain": [
       "           beer_servings  spirit_servings  wine_servings  \\\n",
       "continent                                                  \n",
       "AF                 61.47            16.34          16.26   \n",
       "AS                 37.05            60.84           9.07   \n",
       "EU                193.78           132.56         142.22   \n",
       "OC                 89.69            58.44          35.62   \n",
       "SA                175.08           114.75          62.42   \n",
       "\n",
       "           total_litres_of_pure_alcohol  \n",
       "continent                                \n",
       "AF                                 3.01  \n",
       "AS                                 2.17  \n",
       "EU                                 8.62  \n",
       "OC                                 3.38  \n",
       "SA                                 6.31  "
      ],
      "text/html": "<div>\n<style scoped>\n    .dataframe tbody tr th:only-of-type {\n        vertical-align: middle;\n    }\n\n    .dataframe tbody tr th {\n        vertical-align: top;\n    }\n\n    .dataframe thead th {\n        text-align: right;\n    }\n</style>\n<table border=\"1\" class=\"dataframe\">\n  <thead>\n    <tr style=\"text-align: right;\">\n      <th></th>\n      <th>beer_servings</th>\n      <th>spirit_servings</th>\n      <th>wine_servings</th>\n      <th>total_litres_of_pure_alcohol</th>\n    </tr>\n    <tr>\n      <th>continent</th>\n      <th></th>\n      <th></th>\n      <th></th>\n      <th></th>\n    </tr>\n  </thead>\n  <tbody>\n    <tr>\n      <th>AF</th>\n      <td>61.47</td>\n      <td>16.34</td>\n      <td>16.26</td>\n      <td>3.01</td>\n    </tr>\n    <tr>\n      <th>AS</th>\n      <td>37.05</td>\n      <td>60.84</td>\n      <td>9.07</td>\n      <td>2.17</td>\n    </tr>\n    <tr>\n      <th>EU</th>\n      <td>193.78</td>\n      <td>132.56</td>\n      <td>142.22</td>\n      <td>8.62</td>\n    </tr>\n    <tr>\n      <th>OC</th>\n      <td>89.69</td>\n      <td>58.44</td>\n      <td>35.62</td>\n      <td>3.38</td>\n    </tr>\n    <tr>\n      <th>SA</th>\n      <td>175.08</td>\n      <td>114.75</td>\n      <td>62.42</td>\n      <td>6.31</td>\n    </tr>\n  </tbody>\n</table>\n</div>"
     },
     "metadata": {},
     "execution_count": 16
    }
   ],
   "source": [
    "# little bit confusing question but okay\n",
    "# for \"every column\" is confusing term here\n",
    "continent_mean = round(drinks.groupby('continent').mean(),2)\n",
    "continent_mean"
   ]
  },
  {
   "cell_type": "markdown",
   "metadata": {},
   "source": [
    "### Step 7. Print the median alcohol consumption per continent for every column"
   ]
  },
  {
   "cell_type": "code",
   "execution_count": 14,
   "metadata": {},
   "outputs": [
    {
     "output_type": "execute_result",
     "data": {
      "text/plain": [
       "           beer_servings  spirit_servings  wine_servings  \\\n",
       "continent                                                  \n",
       "AF                  32.0              3.0            2.0   \n",
       "AS                  17.5             16.0            1.0   \n",
       "EU                 219.0            122.0          128.0   \n",
       "OC                  52.5             37.0            8.5   \n",
       "SA                 162.5            108.5           12.0   \n",
       "\n",
       "           total_litres_of_pure_alcohol  \n",
       "continent                                \n",
       "AF                                 2.30  \n",
       "AS                                 1.20  \n",
       "EU                                10.00  \n",
       "OC                                 1.75  \n",
       "SA                                 6.85  "
      ],
      "text/html": "<div>\n<style scoped>\n    .dataframe tbody tr th:only-of-type {\n        vertical-align: middle;\n    }\n\n    .dataframe tbody tr th {\n        vertical-align: top;\n    }\n\n    .dataframe thead th {\n        text-align: right;\n    }\n</style>\n<table border=\"1\" class=\"dataframe\">\n  <thead>\n    <tr style=\"text-align: right;\">\n      <th></th>\n      <th>beer_servings</th>\n      <th>spirit_servings</th>\n      <th>wine_servings</th>\n      <th>total_litres_of_pure_alcohol</th>\n    </tr>\n    <tr>\n      <th>continent</th>\n      <th></th>\n      <th></th>\n      <th></th>\n      <th></th>\n    </tr>\n  </thead>\n  <tbody>\n    <tr>\n      <th>AF</th>\n      <td>32.0</td>\n      <td>3.0</td>\n      <td>2.0</td>\n      <td>2.30</td>\n    </tr>\n    <tr>\n      <th>AS</th>\n      <td>17.5</td>\n      <td>16.0</td>\n      <td>1.0</td>\n      <td>1.20</td>\n    </tr>\n    <tr>\n      <th>EU</th>\n      <td>219.0</td>\n      <td>122.0</td>\n      <td>128.0</td>\n      <td>10.00</td>\n    </tr>\n    <tr>\n      <th>OC</th>\n      <td>52.5</td>\n      <td>37.0</td>\n      <td>8.5</td>\n      <td>1.75</td>\n    </tr>\n    <tr>\n      <th>SA</th>\n      <td>162.5</td>\n      <td>108.5</td>\n      <td>12.0</td>\n      <td>6.85</td>\n    </tr>\n  </tbody>\n</table>\n</div>"
     },
     "metadata": {},
     "execution_count": 14
    }
   ],
   "source": [
    "continent_mean = drinks.groupby('continent').median()\n",
    "continent_mean"
   ]
  },
  {
   "cell_type": "markdown",
   "metadata": {},
   "source": [
    "### Step 8. Print the mean, min and max values for spirit consumption.\n",
    "#### This time output a DataFrame"
   ]
  },
  {
   "cell_type": "code",
   "execution_count": null,
   "metadata": {},
   "outputs": [],
   "source": []
  }
 ],
 "metadata": {
  "kernelspec": {
   "name": "python3",
   "display_name": "Python 3.8.3 64-bit (conda)",
   "metadata": {
    "interpreter": {
     "hash": "ed225720166559e7176d3793db16a2fd8d295f725007103b21ac3099d2a89ee8"
    }
   }
  },
  "language_info": {
   "codemirror_mode": {
    "name": "ipython",
    "version": 2
   },
   "file_extension": ".py",
   "mimetype": "text/x-python",
   "name": "python",
   "nbconvert_exporter": "python",
   "pygments_lexer": "ipython2",
   "version": "3.8.3-final"
  }
 },
 "nbformat": 4,
 "nbformat_minor": 0
}